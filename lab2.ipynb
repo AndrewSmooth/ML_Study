{
 "cells": [
  {
   "cell_type": "markdown",
   "metadata": {},
   "source": [
    "## Лабораторная работа №2 Обучение MNIST\n",
    "### Выполнил Гладкий Андрей Антонович БВТ2202\n",
    "Цель: написать архитектуру MLP и обучить нейросеть на датасете MNIST"
   ]
  },
  {
   "cell_type": "markdown",
   "metadata": {},
   "source": [
    "Задачи: \n",
    "1) написать свой датасет(класс) и даталаудер \n",
    "2) написать архитектуру MLP+классификатор \n",
    "3) использовать либо SGD либо Adam в качестве оптимизатора \n",
    "4) использовать CrossEntropyLoss в качестве лоссфункции \n",
    "5) использовать ReLU в качестве функции активации \n",
    "6) переводить модель на cuda, переводить номер класса в one hot вектор, использовать argmax для обратного преобразования"
   ]
  },
  {
   "cell_type": "code",
   "execution_count": 2,
   "metadata": {},
   "outputs": [],
   "source": [
    "import os\n",
    "import pandas as pd\n",
    "from torch.utils.data import Dataset\n",
    "from torch.utils.data import DataLoader\n",
    "import torch.nn as nn\n",
    "from torchvision.io import read_image\n",
    "from torchvision import datasets, transforms\n",
    "import numpy as np\n",
    "import torch\n",
    "import math\n",
    "import matplotlib.pyplot as plt\n"
   ]
  },
  {
   "cell_type": "code",
   "execution_count": 18,
   "metadata": {},
   "outputs": [
    {
     "data": {
      "image/png": "[encoded data removed]",
      "text/plain": [
       "<Figure size 640x480 with 1 Axes>"
      ]
     },
     "metadata": {},
     "output_type": "display_data"
    },
    {
     "name": "stdout",
     "output_type": "stream",
     "text": [
      "Label: 5\n"
     ]
    }
   ],
   "source": [
    "class MNISTDataset(Dataset): # init len getitem обязательные методы\n",
    "    def __init__(self, train=True):\n",
    "        self.transform = transforms.Compose([\n",
    "            transforms.ToTensor(),\n",
    "            transforms.Normalize((0.5,), (0.5,))\n",
    "        ])\n",
    "        self.dataset = datasets.MNIST(root='./data', train=train, download=True, transform=self.transform)\n",
    "\n",
    "    def __len__(self):\n",
    "        return len(self.dataset)\n",
    "    \n",
    "    def __getitem__(self, idx):\n",
    "        image, label = self.dataset[idx]\n",
    "        return image, label \n",
    "    \n",
    "train_dataset = MNISTDataset()\n",
    "test_dataset = datasets.MNIST(root='./data', train=False, download=True, transform=transforms.ToTensor())\n",
    "train_dataloader = DataLoader(train_dataset, batch_size=16, shuffle=True)\n",
    "test_dataloader = DataLoader(test_dataset, batch_size=1, shuffle=False)\n",
    "\n",
    "# проверка, что всё работает\n",
    "train_features, train_labels = next(iter(train_dataloader))\n",
    "img = train_features[0].squeeze() # squeeze - удаляет все размерности вектора, которые равны 1. Это нужно для уменьшения размерности тензора\n",
    "label = train_labels[0] # (1, 28, 28).squeeze()->(28, 28)\n",
    "plt.imshow(img, cmap=\"gray\")\n",
    "plt.show()\n",
    "print(f\"Label: {label}\")"
   ]
  },
  {
   "cell_type": "code",
   "execution_count": 4,
   "metadata": {},
   "outputs": [],
   "source": [
    "class MLP(nn.Module):\n",
    "    def __init__(self, hidden_size=128):\n",
    "        super(MLP, self).__init__()\n",
    "        self.fc1 = nn.Linear(28*28, hidden_size)          \n",
    "        self.fc2 = nn.Linear(hidden_size, 10) \n",
    "              \n",
    "\n",
    "    def forward(self, x):\n",
    "        x = x.view(-1, 28 * 28)  # -1 вычисляет текущую размерность. Изменяет размерность тензора, не изменяя данные\n",
    "        m = nn.ReLU()\n",
    "        x = m(self.fc1(x))   \n",
    "        x = self.fc2(x)\n",
    "        s = nn.Softmax(dim=1)\n",
    "        x = s(x)        \n",
    "        return x"
   ]
  },
  {
   "cell_type": "code",
   "execution_count": 5,
   "metadata": {},
   "outputs": [],
   "source": [
    "device = torch.device(\"cuda\" if torch.cuda.is_available() else \"cpu\")\n",
    "model = MLP().to(device)\n",
    "optimizer = torch.optim.Adam(model.parameters(), lr=3e-4) # learning rate - скорость обучения. (На каждом шаге веса будут изменяться на 0.0003)\n",
    "loss_fn = torch.nn.CrossEntropyLoss()\n",
    "epochs = range(10)"
   ]
  },
  {
   "cell_type": "code",
   "execution_count": 6,
   "metadata": {},
   "outputs": [
    {
     "data": {
      "text/plain": [
       "device(type='cuda')"
      ]
     },
     "execution_count": 6,
     "metadata": {},
     "output_type": "execute_result"
    }
   ],
   "source": [
    "device"
   ]
  },
  {
   "cell_type": "code",
   "execution_count": 7,
   "metadata": {},
   "outputs": [
    {
     "name": "stdout",
     "output_type": "stream",
     "text": [
      "Epoch [1/5], Loss: 1.5242\n",
      "Epoch [2/5], Loss: 1.6481\n",
      "Epoch [3/5], Loss: 1.4697\n",
      "Epoch [4/5], Loss: 1.5857\n",
      "Epoch [5/5], Loss: 1.5995\n"
     ]
    }
   ],
   "source": [
    "def train_model(num_epochs=5):\n",
    "    dataset = train_dataset\n",
    "    dataloader = train_dataloader\n",
    "\n",
    "    model.train()\n",
    "    for epoch in range(num_epochs):\n",
    "        for images, labels in dataloader:\n",
    "            images, labels = images.to(device), labels.to(device)\n",
    "\n",
    "            # Обнуление градиентов\n",
    "            optimizer.zero_grad()\n",
    "\n",
    "            # Прямой проход\n",
    "            outputs = model(images)\n",
    "            loss = loss_fn(outputs, labels)\n",
    "\n",
    "            # Обратный проход и оптимизация\n",
    "            loss.backward()\n",
    "            optimizer.step()\n",
    "\n",
    "        print(f'Epoch [{epoch+1}/{num_epochs}], Loss: {loss.item():.4f}')\n",
    "\n",
    "# Запуск обучения\n",
    "train_model(num_epochs=5)"
   ]
  },
  {
   "cell_type": "code",
   "execution_count": 13,
   "metadata": {},
   "outputs": [],
   "source": [
    "def predict(model, image):\n",
    "    model.eval()\n",
    "    with torch.no_grad():\n",
    "        image = image.to(device)\n",
    "        output = model(image.view(-1, 28 * 28))\n",
    "        np_arr =  output.data.detach().cpu().numpy()\n",
    "        # print(output.data)\n",
    "        np.set_printoptions(suppress=True) # вывести массив np без e-01\n",
    "        p = np.max(np_arr)\n",
    "        print(np_arr)\n",
    "\n",
    "        # _, predicted = torch.max(output.data, 1)\n",
    "        predicted = np.argmax(np_arr)\n",
    "    return predicted, p"
   ]
  },
  {
   "cell_type": "code",
   "execution_count": 20,
   "metadata": {},
   "outputs": [
    {
     "name": "stdout",
     "output_type": "stream",
     "text": [
      "[[0.00060752 0.00000007 0.01203899 0.02361821 0.00000001 0.00006257\n",
      "  0.         0.96297854 0.00013207 0.00056194]]\n",
      "Predicted: 7, Actual: 7, Probability: 0.9629999995231628\n",
      "\n",
      "\n",
      "[[0.00079299 0.00004563 0.9348008  0.05464897 0.         0.0016369\n",
      "  0.00114983 0.         0.00692492 0.        ]]\n",
      "Predicted: 2, Actual: 2, Probability: 0.9350000023841858\n",
      "\n",
      "\n",
      "[[0.00001105 0.95599276 0.00914019 0.00977586 0.00039518 0.00015254\n",
      "  0.00464475 0.01416896 0.0053698  0.00034886]]\n",
      "Predicted: 1, Actual: 1, Probability: 0.9559999704360962\n",
      "\n",
      "\n"
     ]
    }
   ],
   "source": [
    "count = 0\n",
    "for images, labels in test_dataloader:\n",
    "    if count < 3:\n",
    "        predicted_class, p = predict(model, images)\n",
    "        print(f'Predicted: {predicted_class.item()}, Actual: {labels.item()}, Probability: {round(p, 3)}')\n",
    "    else:\n",
    "        break  # Предсказываем только для одного изображения\n",
    "    count += 1\n",
    "    print(\"\\n\")"
   ]
  }
 ],
 "metadata": {
  "kernelspec": {
   "display_name": "venv",
   "language": "python",
   "name": "python3"
  },
  "language_info": {
   "codemirror_mode": {
    "name": "ipython",
    "version": 3
   },
   "file_extension": ".py",
   "mimetype": "text/x-python",
   "name": "python",
   "nbconvert_exporter": "python",
   "pygments_lexer": "ipython3",
   "version": "3.12.3"
  }
 },
 "nbformat": 4,
 "nbformat_minor": 2
}
